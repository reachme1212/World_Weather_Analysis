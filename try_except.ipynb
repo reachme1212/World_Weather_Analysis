{
 "cells": [
  {
   "cell_type": "code",
   "execution_count": 2,
   "id": "72f560a8",
   "metadata": {},
   "outputs": [],
   "source": [
    "import requests as req\n",
    "from config import weather_api_key"
   ]
  },
  {
   "cell_type": "code",
   "execution_count": 18,
   "id": "425e10e6",
   "metadata": {},
   "outputs": [],
   "source": [
    "url =\"http://api.openweathermap.org/data/2.5/weather?units=imperial&appid=\"+ weather_api_key"
   ]
  },
  {
   "cell_type": "code",
   "execution_count": 19,
   "id": "7d4af953",
   "metadata": {},
   "outputs": [],
   "source": [
    "cities = [\"pittsburgh\",\"Austin\",\"New York\",\"Los Angeles\",\"Seattle\"]"
   ]
  },
  {
   "cell_type": "code",
   "execution_count": 24,
   "id": "ace737fb",
   "metadata": {},
   "outputs": [
    {
     "name": "stdout",
     "output_type": "stream",
     "text": [
      "Current weather in pittsburgh 68.13\n",
      "Current weather in Austin 77.83\n",
      "Current weather in New York 64.71\n",
      "Current weather in Los Angeles 64.04\n",
      "Current weather in Seattle 53.19\n"
     ]
    }
   ],
   "source": [
    "for city in cities:\n",
    "    try:\n",
    "        city_url=url +\"&q=\" +city\n",
    "        weather = req.get(city_url).json()\n",
    "        temp = weather[\"main\"][\"temp\"]\n",
    "    except:\n",
    "        print(\"keyerror for \"+ city)\n",
    "        continue\n",
    "    print(\"Current weather in \" +  city  +\" \"+   str( temp) )"
   ]
  },
  {
   "cell_type": "code",
   "execution_count": null,
   "id": "4015d957",
   "metadata": {},
   "outputs": [],
   "source": []
  }
 ],
 "metadata": {
  "kernelspec": {
   "display_name": "PythonData",
   "language": "python",
   "name": "pythondata"
  },
  "language_info": {
   "codemirror_mode": {
    "name": "ipython",
    "version": 3
   },
   "file_extension": ".py",
   "mimetype": "text/x-python",
   "name": "python",
   "nbconvert_exporter": "python",
   "pygments_lexer": "ipython3",
   "version": "3.8.8"
  }
 },
 "nbformat": 4,
 "nbformat_minor": 5
}
