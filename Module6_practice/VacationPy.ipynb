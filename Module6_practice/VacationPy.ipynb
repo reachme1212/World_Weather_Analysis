{
 "cells": [
  {
   "cell_type": "code",
   "execution_count": 1,
   "id": "c5a7326f",
   "metadata": {},
   "outputs": [],
   "source": [
    "import pandas as pd\n",
    "import gmaps\n",
    "import requests\n",
    "# Import the API key.\n",
    "from config import g_key"
   ]
  },
  {
   "cell_type": "code",
   "execution_count": 3,
   "id": "2b4dd75a",
   "metadata": {},
   "outputs": [
    {
     "data": {
      "text/html": [
       "<div>\n",
       "<style scoped>\n",
       "    .dataframe tbody tr th:only-of-type {\n",
       "        vertical-align: middle;\n",
       "    }\n",
       "\n",
       "    .dataframe tbody tr th {\n",
       "        vertical-align: top;\n",
       "    }\n",
       "\n",
       "    .dataframe thead th {\n",
       "        text-align: right;\n",
       "    }\n",
       "</style>\n",
       "<table border=\"1\" class=\"dataframe\">\n",
       "  <thead>\n",
       "    <tr style=\"text-align: right;\">\n",
       "      <th></th>\n",
       "      <th>Unnamed: 0</th>\n",
       "      <th>City</th>\n",
       "      <th>Lat</th>\n",
       "      <th>Lng</th>\n",
       "      <th>Max Temp</th>\n",
       "      <th>Humidity</th>\n",
       "      <th>Cloudiness</th>\n",
       "      <th>Wind Speed</th>\n",
       "      <th>Country</th>\n",
       "      <th>Date</th>\n",
       "    </tr>\n",
       "  </thead>\n",
       "  <tbody>\n",
       "    <tr>\n",
       "      <th>0</th>\n",
       "      <td>0</td>\n",
       "      <td>Eenhana</td>\n",
       "      <td>-17.4667</td>\n",
       "      <td>16.3333</td>\n",
       "      <td>90.32</td>\n",
       "      <td>13</td>\n",
       "      <td>30</td>\n",
       "      <td>10.58</td>\n",
       "      <td>NaN</td>\n",
       "      <td>2021-10-21 15:38:35</td>\n",
       "    </tr>\n",
       "    <tr>\n",
       "      <th>1</th>\n",
       "      <td>1</td>\n",
       "      <td>Saint-Philippe</td>\n",
       "      <td>-21.3585</td>\n",
       "      <td>55.7679</td>\n",
       "      <td>74.79</td>\n",
       "      <td>77</td>\n",
       "      <td>50</td>\n",
       "      <td>7.61</td>\n",
       "      <td>RE</td>\n",
       "      <td>2021-10-21 15:35:42</td>\n",
       "    </tr>\n",
       "    <tr>\n",
       "      <th>2</th>\n",
       "      <td>2</td>\n",
       "      <td>Chuy</td>\n",
       "      <td>-33.6971</td>\n",
       "      <td>-53.4616</td>\n",
       "      <td>68.68</td>\n",
       "      <td>48</td>\n",
       "      <td>0</td>\n",
       "      <td>5.32</td>\n",
       "      <td>UY</td>\n",
       "      <td>2021-10-21 15:38:35</td>\n",
       "    </tr>\n",
       "    <tr>\n",
       "      <th>3</th>\n",
       "      <td>3</td>\n",
       "      <td>Yinchuan</td>\n",
       "      <td>38.4681</td>\n",
       "      <td>106.2731</td>\n",
       "      <td>48.67</td>\n",
       "      <td>25</td>\n",
       "      <td>42</td>\n",
       "      <td>3.22</td>\n",
       "      <td>CN</td>\n",
       "      <td>2021-10-21 15:38:35</td>\n",
       "    </tr>\n",
       "    <tr>\n",
       "      <th>4</th>\n",
       "      <td>4</td>\n",
       "      <td>Tiksi</td>\n",
       "      <td>71.6872</td>\n",
       "      <td>128.8694</td>\n",
       "      <td>14.43</td>\n",
       "      <td>95</td>\n",
       "      <td>100</td>\n",
       "      <td>12.75</td>\n",
       "      <td>RU</td>\n",
       "      <td>2021-10-21 15:38:36</td>\n",
       "    </tr>\n",
       "  </tbody>\n",
       "</table>\n",
       "</div>"
      ],
      "text/plain": [
       "   Unnamed: 0            City      Lat       Lng  Max Temp  Humidity  \\\n",
       "0           0         Eenhana -17.4667   16.3333     90.32        13   \n",
       "1           1  Saint-Philippe -21.3585   55.7679     74.79        77   \n",
       "2           2            Chuy -33.6971  -53.4616     68.68        48   \n",
       "3           3        Yinchuan  38.4681  106.2731     48.67        25   \n",
       "4           4           Tiksi  71.6872  128.8694     14.43        95   \n",
       "\n",
       "   Cloudiness  Wind Speed Country                 Date  \n",
       "0          30       10.58     NaN  2021-10-21 15:38:35  \n",
       "1          50        7.61      RE  2021-10-21 15:35:42  \n",
       "2           0        5.32      UY  2021-10-21 15:38:35  \n",
       "3          42        3.22      CN  2021-10-21 15:38:35  \n",
       "4         100       12.75      RU  2021-10-21 15:38:36  "
      ]
     },
     "execution_count": 3,
     "metadata": {},
     "output_type": "execute_result"
    }
   ],
   "source": [
    "city_data_df = pd.read_csv(\"weather_database/cities.csv\")\n",
    "city_data_df.head()"
   ]
  },
  {
   "cell_type": "code",
   "execution_count": 4,
   "id": "a61b31cf",
   "metadata": {},
   "outputs": [
    {
     "data": {
      "text/html": [
       "<div>\n",
       "<style scoped>\n",
       "    .dataframe tbody tr th:only-of-type {\n",
       "        vertical-align: middle;\n",
       "    }\n",
       "\n",
       "    .dataframe tbody tr th {\n",
       "        vertical-align: top;\n",
       "    }\n",
       "\n",
       "    .dataframe thead th {\n",
       "        text-align: right;\n",
       "    }\n",
       "</style>\n",
       "<table border=\"1\" class=\"dataframe\">\n",
       "  <thead>\n",
       "    <tr style=\"text-align: right;\">\n",
       "      <th></th>\n",
       "      <th>City</th>\n",
       "      <th>Lat</th>\n",
       "      <th>Lng</th>\n",
       "      <th>Max Temp</th>\n",
       "      <th>Humidity</th>\n",
       "      <th>Cloudiness</th>\n",
       "      <th>Wind Speed</th>\n",
       "      <th>Country</th>\n",
       "      <th>Date</th>\n",
       "    </tr>\n",
       "  </thead>\n",
       "  <tbody>\n",
       "    <tr>\n",
       "      <th>0</th>\n",
       "      <td>Eenhana</td>\n",
       "      <td>-17.4667</td>\n",
       "      <td>16.3333</td>\n",
       "      <td>90.32</td>\n",
       "      <td>13</td>\n",
       "      <td>30</td>\n",
       "      <td>10.58</td>\n",
       "      <td>NaN</td>\n",
       "      <td>2021-10-21 15:38:35</td>\n",
       "    </tr>\n",
       "    <tr>\n",
       "      <th>1</th>\n",
       "      <td>Saint-Philippe</td>\n",
       "      <td>-21.3585</td>\n",
       "      <td>55.7679</td>\n",
       "      <td>74.79</td>\n",
       "      <td>77</td>\n",
       "      <td>50</td>\n",
       "      <td>7.61</td>\n",
       "      <td>RE</td>\n",
       "      <td>2021-10-21 15:35:42</td>\n",
       "    </tr>\n",
       "    <tr>\n",
       "      <th>2</th>\n",
       "      <td>Chuy</td>\n",
       "      <td>-33.6971</td>\n",
       "      <td>-53.4616</td>\n",
       "      <td>68.68</td>\n",
       "      <td>48</td>\n",
       "      <td>0</td>\n",
       "      <td>5.32</td>\n",
       "      <td>UY</td>\n",
       "      <td>2021-10-21 15:38:35</td>\n",
       "    </tr>\n",
       "    <tr>\n",
       "      <th>3</th>\n",
       "      <td>Yinchuan</td>\n",
       "      <td>38.4681</td>\n",
       "      <td>106.2731</td>\n",
       "      <td>48.67</td>\n",
       "      <td>25</td>\n",
       "      <td>42</td>\n",
       "      <td>3.22</td>\n",
       "      <td>CN</td>\n",
       "      <td>2021-10-21 15:38:35</td>\n",
       "    </tr>\n",
       "    <tr>\n",
       "      <th>4</th>\n",
       "      <td>Tiksi</td>\n",
       "      <td>71.6872</td>\n",
       "      <td>128.8694</td>\n",
       "      <td>14.43</td>\n",
       "      <td>95</td>\n",
       "      <td>100</td>\n",
       "      <td>12.75</td>\n",
       "      <td>RU</td>\n",
       "      <td>2021-10-21 15:38:36</td>\n",
       "    </tr>\n",
       "    <tr>\n",
       "      <th>...</th>\n",
       "      <td>...</td>\n",
       "      <td>...</td>\n",
       "      <td>...</td>\n",
       "      <td>...</td>\n",
       "      <td>...</td>\n",
       "      <td>...</td>\n",
       "      <td>...</td>\n",
       "      <td>...</td>\n",
       "      <td>...</td>\n",
       "    </tr>\n",
       "    <tr>\n",
       "      <th>533</th>\n",
       "      <td>Lobito</td>\n",
       "      <td>-12.3481</td>\n",
       "      <td>13.5456</td>\n",
       "      <td>77.16</td>\n",
       "      <td>77</td>\n",
       "      <td>36</td>\n",
       "      <td>9.22</td>\n",
       "      <td>AO</td>\n",
       "      <td>2021-10-21 15:41:13</td>\n",
       "    </tr>\n",
       "    <tr>\n",
       "      <th>534</th>\n",
       "      <td>Aleksandrov Gay</td>\n",
       "      <td>50.1470</td>\n",
       "      <td>48.5704</td>\n",
       "      <td>48.74</td>\n",
       "      <td>40</td>\n",
       "      <td>100</td>\n",
       "      <td>22.59</td>\n",
       "      <td>RU</td>\n",
       "      <td>2021-10-21 15:41:14</td>\n",
       "    </tr>\n",
       "    <tr>\n",
       "      <th>535</th>\n",
       "      <td>Srikakulam</td>\n",
       "      <td>18.3000</td>\n",
       "      <td>83.9000</td>\n",
       "      <td>81.05</td>\n",
       "      <td>80</td>\n",
       "      <td>86</td>\n",
       "      <td>3.09</td>\n",
       "      <td>IN</td>\n",
       "      <td>2021-10-21 15:41:14</td>\n",
       "    </tr>\n",
       "    <tr>\n",
       "      <th>536</th>\n",
       "      <td>Tiarei</td>\n",
       "      <td>-17.5333</td>\n",
       "      <td>-149.3333</td>\n",
       "      <td>75.22</td>\n",
       "      <td>80</td>\n",
       "      <td>81</td>\n",
       "      <td>4.07</td>\n",
       "      <td>PF</td>\n",
       "      <td>2021-10-21 15:41:14</td>\n",
       "    </tr>\n",
       "    <tr>\n",
       "      <th>537</th>\n",
       "      <td>Bara</td>\n",
       "      <td>10.3744</td>\n",
       "      <td>10.7288</td>\n",
       "      <td>92.21</td>\n",
       "      <td>42</td>\n",
       "      <td>44</td>\n",
       "      <td>2.01</td>\n",
       "      <td>NG</td>\n",
       "      <td>2021-10-21 15:37:16</td>\n",
       "    </tr>\n",
       "  </tbody>\n",
       "</table>\n",
       "<p>538 rows × 9 columns</p>\n",
       "</div>"
      ],
      "text/plain": [
       "                City      Lat       Lng  Max Temp  Humidity  Cloudiness  \\\n",
       "0            Eenhana -17.4667   16.3333     90.32        13          30   \n",
       "1     Saint-Philippe -21.3585   55.7679     74.79        77          50   \n",
       "2               Chuy -33.6971  -53.4616     68.68        48           0   \n",
       "3           Yinchuan  38.4681  106.2731     48.67        25          42   \n",
       "4              Tiksi  71.6872  128.8694     14.43        95         100   \n",
       "..               ...      ...       ...       ...       ...         ...   \n",
       "533           Lobito -12.3481   13.5456     77.16        77          36   \n",
       "534  Aleksandrov Gay  50.1470   48.5704     48.74        40         100   \n",
       "535       Srikakulam  18.3000   83.9000     81.05        80          86   \n",
       "536           Tiarei -17.5333 -149.3333     75.22        80          81   \n",
       "537             Bara  10.3744   10.7288     92.21        42          44   \n",
       "\n",
       "     Wind Speed Country                 Date  \n",
       "0         10.58     NaN  2021-10-21 15:38:35  \n",
       "1          7.61      RE  2021-10-21 15:35:42  \n",
       "2          5.32      UY  2021-10-21 15:38:35  \n",
       "3          3.22      CN  2021-10-21 15:38:35  \n",
       "4         12.75      RU  2021-10-21 15:38:36  \n",
       "..          ...     ...                  ...  \n",
       "533        9.22      AO  2021-10-21 15:41:13  \n",
       "534       22.59      RU  2021-10-21 15:41:14  \n",
       "535        3.09      IN  2021-10-21 15:41:14  \n",
       "536        4.07      PF  2021-10-21 15:41:14  \n",
       "537        2.01      NG  2021-10-21 15:37:16  \n",
       "\n",
       "[538 rows x 9 columns]"
      ]
     },
     "execution_count": 4,
     "metadata": {},
     "output_type": "execute_result"
    }
   ],
   "source": [
    "city_data_df.drop(columns=[\"Unnamed: 0\"])"
   ]
  },
  {
   "cell_type": "code",
   "execution_count": 5,
   "id": "171042f4",
   "metadata": {},
   "outputs": [
    {
     "data": {
      "text/plain": [
       "Unnamed: 0      int64\n",
       "City           object\n",
       "Lat           float64\n",
       "Lng           float64\n",
       "Max Temp      float64\n",
       "Humidity        int64\n",
       "Cloudiness      int64\n",
       "Wind Speed    float64\n",
       "Country        object\n",
       "Date           object\n",
       "dtype: object"
      ]
     },
     "execution_count": 5,
     "metadata": {},
     "output_type": "execute_result"
    }
   ],
   "source": [
    "city_data_df.dtypes\n"
   ]
  },
  {
   "cell_type": "code",
   "execution_count": null,
   "id": "b7ebaa9f",
   "metadata": {},
   "outputs": [],
   "source": [
    "# city_data_df.rename(columns= {\"Unnamed: 0\" : \"city-id\"}, inplace = True)\n"
   ]
  },
  {
   "cell_type": "code",
   "execution_count": 9,
   "id": "adbe36c5",
   "metadata": {},
   "outputs": [
    {
     "data": {
      "text/plain": [
       "Unnamed: 0    538\n",
       "City          538\n",
       "Lat           538\n",
       "Lng           538\n",
       "Max Temp      538\n",
       "Humidity      538\n",
       "Cloudiness    538\n",
       "Wind Speed    538\n",
       "Country       533\n",
       "Date          538\n",
       "dtype: int64"
      ]
     },
     "execution_count": 9,
     "metadata": {},
     "output_type": "execute_result"
    }
   ],
   "source": [
    "#count () shows blanks \n",
    "city_data_df.count()"
   ]
  },
  {
   "cell_type": "code",
   "execution_count": 19,
   "id": "6d88cedb",
   "metadata": {},
   "outputs": [],
   "source": [
    "clean_city_data_df = city_data_df.loc[(city_data_df[\"Country\"].notnull())]"
   ]
  },
  {
   "cell_type": "code",
   "execution_count": 20,
   "id": "5dfa087c",
   "metadata": {},
   "outputs": [
    {
     "data": {
      "text/plain": [
       "Unnamed: 0    533\n",
       "City          533\n",
       "Lat           533\n",
       "Lng           533\n",
       "Max Temp      533\n",
       "Humidity      533\n",
       "Cloudiness    533\n",
       "Wind Speed    533\n",
       "Country       533\n",
       "Date          533\n",
       "dtype: int64"
      ]
     },
     "execution_count": 20,
     "metadata": {},
     "output_type": "execute_result"
    }
   ],
   "source": [
    "clean_city_data_df.count()"
   ]
  },
  {
   "cell_type": "code",
   "execution_count": null,
   "id": "455d945f",
   "metadata": {},
   "outputs": [],
   "source": [
    "#drop these rows with no values\n"
   ]
  },
  {
   "cell_type": "code",
   "execution_count": null,
   "id": "a4561be0",
   "metadata": {},
   "outputs": [],
   "source": [
    "# Configure gmaps to use your Google API key.\n",
    "#gmaps.configure(api_key=g_key)"
   ]
  },
  {
   "cell_type": "code",
   "execution_count": null,
   "id": "3528320b",
   "metadata": {},
   "outputs": [],
   "source": [
    "locations = city_data_df[[\"Lat\", \"Lng\"]]\n",
    "max_temp = city_data_df[\"Max Temp\"]\n",
    "fig = gmaps.figure()\n",
    "heat_layer = gmaps.heatmap_layer(locations, weights=[max(temp, 0) for temp in max_temp])\n",
    "#gmaps.heatmap_layer(locations, weights=[max(temp, 0) for temp in max_temp], dissipating=False, max_intensity=300, point_radius=4)\n",
    "fig.add_layer(heat_layer)\n",
    "fig"
   ]
  },
  {
   "cell_type": "code",
   "execution_count": null,
   "id": "c66ad6b2",
   "metadata": {},
   "outputs": [],
   "source": [
    "# Heatmap of percent humidity\n",
    "locations = city_data_df[[\"Lat\", \"Lng\"]]\n",
    "humidity = city_data_df[\"Humidity\"]\n",
    "fig = gmaps.figure(center=(30.0, 31.0), zoom_level=1.5)\n",
    "heat_layer = gmaps.heatmap_layer(locations, weights=humidity, dissipating=False, max_intensity=300, point_radius=4)\n",
    "\n",
    "fig.add_layer(heat_layer)\n",
    "# Call the figure to plot the data.\n",
    "fig"
   ]
  },
  {
   "cell_type": "code",
   "execution_count": null,
   "id": "b5c01e30",
   "metadata": {},
   "outputs": [],
   "source": [
    "locations = city_data_df[[\"Lat\", \"Lng\"]]\n",
    "Cloudiness = city_data_df[\"Cloudiness\"]\n",
    "fig = gmaps.figure(center=(30.0, 31.0), zoom_level=1.5)\n",
    "heat_layer = gmaps.heatmap_layer(locations, weights=Cloudiness, dissipating=False, max_intensity=300, point_radius=4)\n",
    "\n",
    "fig.add_layer(heat_layer)\n",
    "# Call the figure to plot the data.\n",
    "fig"
   ]
  },
  {
   "cell_type": "code",
   "execution_count": null,
   "id": "db355e9e",
   "metadata": {},
   "outputs": [],
   "source": [
    "locations = city_data_df[[\"Lat\", \"Lng\"]]\n",
    "Wind_Speed = city_data_df[\"Wind Speed\"]\n",
    "fig = gmaps.figure(center=(30.0, 31.0), zoom_level=1.5)\n",
    "heat_layer = gmaps.heatmap_layer(locations, weights=Wind_Speed, dissipating=False, max_intensity=300, point_radius=4)\n",
    "\n",
    "fig.add_layer(heat_layer)\n",
    "# Call the figure to plot the data.\n",
    "fig"
   ]
  },
  {
   "cell_type": "code",
   "execution_count": null,
   "id": "cbf015a5",
   "metadata": {},
   "outputs": [],
   "source": [
    "min_temp = float(input(\"What is the minimum temperature you would like for your trip? \"))"
   ]
  },
  {
   "cell_type": "code",
   "execution_count": null,
   "id": "cec1514f",
   "metadata": {},
   "outputs": [],
   "source": [
    "max_temp = float(input(\"What is the maximum temperature you would like for your trip? \"))"
   ]
  },
  {
   "cell_type": "code",
   "execution_count": null,
   "id": "1a1f4dff",
   "metadata": {},
   "outputs": [],
   "source": [
    "# cities with weather between 75 to 89\n",
    "preferred_cities_df = city_data_df.loc[(city_data_df[\"Max Temp\"] <= max_temp) & \\\n",
    "                                       (city_data_df[\"Max Temp\"] >= min_temp)]\n",
    "preferred_cities_df.head(10)"
   ]
  },
  {
   "cell_type": "code",
   "execution_count": null,
   "id": "0ba34633",
   "metadata": {},
   "outputs": [],
   "source": [
    "preferred_cities_df.to_csv(\"preferred_cities.csv\")"
   ]
  },
  {
   "cell_type": "code",
   "execution_count": null,
   "id": "d584ca85",
   "metadata": {},
   "outputs": [],
   "source": [
    "preferred_cities_df_csv=pd.read_csv(\"preferred_cities.csv\")"
   ]
  },
  {
   "cell_type": "code",
   "execution_count": null,
   "id": "df62bf4d",
   "metadata": {},
   "outputs": [],
   "source": [
    "preferred_cities_df_csv"
   ]
  },
  {
   "cell_type": "code",
   "execution_count": null,
   "id": "ed61c80f",
   "metadata": {},
   "outputs": [],
   "source": [
    "preferred_cities_df_csv.drop(columns=[\"Unnamed: 0\"])"
   ]
  },
  {
   "cell_type": "code",
   "execution_count": null,
   "id": "8bcbc2ea",
   "metadata": {},
   "outputs": [],
   "source": [
    "preferred_cities_df_csv.notnull().sum()"
   ]
  },
  {
   "cell_type": "code",
   "execution_count": null,
   "id": "984fa38b",
   "metadata": {},
   "outputs": [],
   "source": [
    "preferred_cities_df_csv.isnull().sum()"
   ]
  },
  {
   "cell_type": "code",
   "execution_count": null,
   "id": "9babdf62",
   "metadata": {},
   "outputs": [],
   "source": [
    "preferred_cities_df_csv.count()"
   ]
  },
  {
   "cell_type": "code",
   "execution_count": null,
   "id": "6af3bb03",
   "metadata": {},
   "outputs": [],
   "source": [
    "#country have 3 nulls\n",
    "#preferred_cities_df[\"Country\"] = preferred_cities_df[\"Country\"].fillna(\"no country\",inplace=True)"
   ]
  },
  {
   "cell_type": "code",
   "execution_count": null,
   "id": "b0da02b6",
   "metadata": {},
   "outputs": [],
   "source": [
    "preferred_cities_df_csv"
   ]
  },
  {
   "cell_type": "code",
   "execution_count": null,
   "id": "517e1b63",
   "metadata": {},
   "outputs": [],
   "source": [
    "#Opuwo Namibia\n",
    "preferred_cities_df_csv.count()"
   ]
  },
  {
   "cell_type": "code",
   "execution_count": null,
   "id": "67982bd5",
   "metadata": {},
   "outputs": [],
   "source": [
    "# Create DataFrame called hotel_df to store hotel names along with city, country, max temp, and coordinates.\n",
    "hotel_df = preferred_cities_df_csv[[\"City\", \"Country\", \"Max Temp\", \"Lat\", \"Lng\"]].copy()\n",
    "hotel_df[\"Hotel Name\"] = \"\"\n",
    "hotel_df.tail(10)"
   ]
  },
  {
   "cell_type": "code",
   "execution_count": null,
   "id": "c2532c1d",
   "metadata": {},
   "outputs": [],
   "source": [
    "hotel_df[\"Country\"].fillna(\"No country\", inplace=True)"
   ]
  },
  {
   "cell_type": "code",
   "execution_count": null,
   "id": "520a78a3",
   "metadata": {},
   "outputs": [],
   "source": [
    "hotel_df.head(10)"
   ]
  },
  {
   "cell_type": "code",
   "execution_count": null,
   "id": "e018a373",
   "metadata": {},
   "outputs": [],
   "source": [
    "hotel_df.count()"
   ]
  },
  {
   "cell_type": "code",
   "execution_count": null,
   "id": "a9454d30",
   "metadata": {},
   "outputs": [],
   "source": [
    "params = {\n",
    "    \"radius\": 5000,\n",
    "    \"type\": \"lodging\",\n",
    "    \"key\": gmap_api_key,\n",
    "    \"location\": \"48.8566, 2.3522\"\n",
    "}"
   ]
  },
  {
   "cell_type": "code",
   "execution_count": null,
   "id": "624a0ee2",
   "metadata": {},
   "outputs": [],
   "source": [
    "# Iterate through the DataFrame.\n",
    "for index, row in hotel_df.iterrows():\n",
    "    \n",
    "    lat = row[\"Lat\"]\n",
    "    lng = row[\"Lng\"]\n",
    "    params[\"location\"] = f\"{lat},{lng}\"\n",
    "    base_url = \"https://maps.googleapis.com/maps/api/place/nearbysearch/json\"\n",
    "    #hotels = requests.get(base_url, params=params).json()\n",
    "    try:\n",
    "        hotel_df.loc[index, \"Hotel Name\"] = hotels[\"results\"][0][\"name\"]\n",
    "    except (IndexError):\n",
    "        print(\"Hotel not found... skipping.\")"
   ]
  },
  {
   "cell_type": "code",
   "execution_count": null,
   "id": "df1663a6",
   "metadata": {},
   "outputs": [],
   "source": [
    "len(hotel_df)"
   ]
  },
  {
   "cell_type": "code",
   "execution_count": null,
   "id": "d8c4d9f5",
   "metadata": {},
   "outputs": [],
   "source": [
    "hotel_df"
   ]
  },
  {
   "cell_type": "code",
   "execution_count": null,
   "id": "b8b8a40e",
   "metadata": {},
   "outputs": [],
   "source": [
    "hotel_df.to_csv(\"hotels.csv\",index=False)\n"
   ]
  },
  {
   "cell_type": "markdown",
   "id": "39cfcc25",
   "metadata": {},
   "source": [
    "**Run All cell below to save api call**"
   ]
  },
  {
   "cell_type": "code",
   "execution_count": null,
   "id": "16790755",
   "metadata": {},
   "outputs": [],
   "source": [
    "hotel_df_csv=pd.read_csv(\"hotels.csv\")\n",
    "hotel_df_csv"
   ]
  },
  {
   "cell_type": "code",
   "execution_count": null,
   "id": "a9def2c0",
   "metadata": {},
   "outputs": [],
   "source": [
    "# Add a heatmap of temperature for the vacation spots.\n",
    "locations = hotel_df[[\"Lat\", \"Lng\"]]\n",
    "max_temp = hotel_df[\"Max Temp\"]\n",
    "fig = gmaps.figure(center=(30.0, 31.0), zoom_level=1.5)\n",
    "heat_layer = gmaps.heatmap_layer(locations, weights=max_temp, dissipating=False,\n",
    "             max_intensity=300, point_radius=4)\n",
    "\n",
    "fig.add_layer(heat_layer)\n",
    "# Call the figure to plot the data.\n",
    "fig"
   ]
  },
  {
   "cell_type": "code",
   "execution_count": null,
   "id": "49be89aa",
   "metadata": {},
   "outputs": [],
   "source": [
    "# Add a heatmap of temperature for the vacation spots and marker for each city.\n",
    "locations = hotel_df[[\"Lat\", \"Lng\"]]\n",
    "max_temp = hotel_df[\"Max Temp\"]\n",
    "fig = gmaps.figure(center=(30.0, 31.0), zoom_level=1.5)\n",
    "heat_layer = gmaps.heatmap_layer(locations, weights=max_temp,\n",
    "             dissipating=False, max_intensity=300, point_radius=4)\n",
    "marker_layer = gmaps.marker_layer(locations)\n",
    "fig.add_layer(heat_layer)\n",
    "fig.add_layer(marker_layer)\n",
    "# Call the figure to plot the data.\n",
    "fig"
   ]
  },
  {
   "cell_type": "code",
   "execution_count": null,
   "id": "82dd2a8a",
   "metadata": {},
   "outputs": [],
   "source": [
    "info_box_template = \"\"\"\n",
    "<dl>\n",
    "<dt>Hotel Name</dt><dd>{Hotel Name}</dd>\n",
    "<dt>City</dt><dd>{City}</dd>\n",
    "<dt>Country</dt><dd>{Country}</dd>\n",
    "<dt>Max Temp</dt><dd>{Max Temp} °F</dd>\n",
    "</dl>\n",
    "\"\"\""
   ]
  },
  {
   "cell_type": "code",
   "execution_count": null,
   "id": "9c8436e1",
   "metadata": {},
   "outputs": [],
   "source": [
    "#Store the DataFrame Row.\n",
    "hotel_info = [info_box_template.format(**row) for index, row in hotel_df.iterrows()]"
   ]
  },
  {
   "cell_type": "code",
   "execution_count": null,
   "id": "4c997886",
   "metadata": {},
   "outputs": [],
   "source": [
    "# Add a heatmap of temperature for the vacation spots and a pop-up marker for each city.\n",
    "locations = hotel_df[[\"Lat\", \"Lng\"]]\n",
    "max_temp = hotel_df[\"Max Temp\"]\n",
    "fig = gmaps.figure(center=(30.0, 31.0), zoom_level=1.5)\n",
    "heat_layer = gmaps.heatmap_layer(locations, weights=max_temp,dissipating=False,\n",
    "             max_intensity=300, point_radius=4)\n",
    "marker_layer = gmaps.marker_layer(locations, info_box_content=hotel_info)\n",
    "fig.add_layer(heat_layer)\n",
    "fig.add_layer(marker_layer)\n",
    "\n",
    "# Call the figure to plot the data.\n",
    "fig"
   ]
  },
  {
   "cell_type": "code",
   "execution_count": null,
   "id": "6ea97972",
   "metadata": {},
   "outputs": [],
   "source": []
  }
 ],
 "metadata": {
  "kernelspec": {
   "display_name": "Python 3",
   "language": "python",
   "name": "python3"
  },
  "language_info": {
   "codemirror_mode": {
    "name": "ipython",
    "version": 3
   },
   "file_extension": ".py",
   "mimetype": "text/x-python",
   "name": "python",
   "nbconvert_exporter": "python",
   "pygments_lexer": "ipython3",
   "version": "3.7.10"
  }
 },
 "nbformat": 4,
 "nbformat_minor": 5
}
